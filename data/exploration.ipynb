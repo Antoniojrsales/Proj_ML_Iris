{
 "cells": [
  {
   "cell_type": "code",
   "execution_count": 1,
   "id": "4cb832b0",
   "metadata": {},
   "outputs": [],
   "source": [
    "#Biblioteca\n",
    "import pandas as pd\n",
    "from sklearn.datasets import load_iris\n",
    "import numpy as np\n",
    "import matplotlib.pyplot as plt\n",
    "import seaborn as sns\n",
    "from matplotlib.lines import lineStyles\n",
    "from matplotlib.pyplot import bar\n",
    "import plotly.express as px"
   ]
  },
  {
   "cell_type": "markdown",
   "id": "16ee00ee",
   "metadata": {},
   "source": [
    "✅ Checklist de Exploração do Dataset Iris"
   ]
  },
  {
   "cell_type": "markdown",
   "id": "597f5a8e",
   "metadata": {},
   "source": [
    "1. **Visão Geral**"
   ]
  },
  {
   "cell_type": "code",
   "execution_count": 2,
   "id": "eb382c0c",
   "metadata": {},
   "outputs": [],
   "source": [
    "iris = load_iris() #Carregando o conjunto de dados Iris\n",
    "df_iris = pd.DataFrame(iris['data'], columns=iris['feature_names']) #Transformando o conjunto em DataFrame Pandas\n",
    "df_iris['target'] = iris['target']\n",
    "# Criar nova coluna com os nomes das espécies\n",
    "df_iris['species'] = df_iris['target'].map({0: 'Setosa', 1: 'Versicolor', 2: 'Virginica'})"
   ]
  },
  {
   "cell_type": "code",
   "execution_count": 3,
   "id": "868ca78d",
   "metadata": {},
   "outputs": [
    {
     "data": {
      "text/html": [
       "<style type=\"text/css\">\n",
       "</style>\n",
       "<table id=\"T_100c8\">\n",
       "  <caption>Primeiras 5 linhas do dataset Iris</caption>\n",
       "  <thead>\n",
       "    <tr>\n",
       "      <th class=\"blank level0\" >&nbsp;</th>\n",
       "      <th id=\"T_100c8_level0_col0\" class=\"col_heading level0 col0\" >sepal length (cm)</th>\n",
       "      <th id=\"T_100c8_level0_col1\" class=\"col_heading level0 col1\" >sepal width (cm)</th>\n",
       "      <th id=\"T_100c8_level0_col2\" class=\"col_heading level0 col2\" >petal length (cm)</th>\n",
       "      <th id=\"T_100c8_level0_col3\" class=\"col_heading level0 col3\" >petal width (cm)</th>\n",
       "      <th id=\"T_100c8_level0_col4\" class=\"col_heading level0 col4\" >target</th>\n",
       "      <th id=\"T_100c8_level0_col5\" class=\"col_heading level0 col5\" >species</th>\n",
       "    </tr>\n",
       "  </thead>\n",
       "  <tbody>\n",
       "    <tr>\n",
       "      <th id=\"T_100c8_level0_row0\" class=\"row_heading level0 row0\" >0</th>\n",
       "      <td id=\"T_100c8_row0_col0\" class=\"data row0 col0\" >5.100000</td>\n",
       "      <td id=\"T_100c8_row0_col1\" class=\"data row0 col1\" >3.500000</td>\n",
       "      <td id=\"T_100c8_row0_col2\" class=\"data row0 col2\" >1.400000</td>\n",
       "      <td id=\"T_100c8_row0_col3\" class=\"data row0 col3\" >0.200000</td>\n",
       "      <td id=\"T_100c8_row0_col4\" class=\"data row0 col4\" >0</td>\n",
       "      <td id=\"T_100c8_row0_col5\" class=\"data row0 col5\" >Setosa</td>\n",
       "    </tr>\n",
       "    <tr>\n",
       "      <th id=\"T_100c8_level0_row1\" class=\"row_heading level0 row1\" >1</th>\n",
       "      <td id=\"T_100c8_row1_col0\" class=\"data row1 col0\" >4.900000</td>\n",
       "      <td id=\"T_100c8_row1_col1\" class=\"data row1 col1\" >3.000000</td>\n",
       "      <td id=\"T_100c8_row1_col2\" class=\"data row1 col2\" >1.400000</td>\n",
       "      <td id=\"T_100c8_row1_col3\" class=\"data row1 col3\" >0.200000</td>\n",
       "      <td id=\"T_100c8_row1_col4\" class=\"data row1 col4\" >0</td>\n",
       "      <td id=\"T_100c8_row1_col5\" class=\"data row1 col5\" >Setosa</td>\n",
       "    </tr>\n",
       "    <tr>\n",
       "      <th id=\"T_100c8_level0_row2\" class=\"row_heading level0 row2\" >2</th>\n",
       "      <td id=\"T_100c8_row2_col0\" class=\"data row2 col0\" >4.700000</td>\n",
       "      <td id=\"T_100c8_row2_col1\" class=\"data row2 col1\" >3.200000</td>\n",
       "      <td id=\"T_100c8_row2_col2\" class=\"data row2 col2\" >1.300000</td>\n",
       "      <td id=\"T_100c8_row2_col3\" class=\"data row2 col3\" >0.200000</td>\n",
       "      <td id=\"T_100c8_row2_col4\" class=\"data row2 col4\" >0</td>\n",
       "      <td id=\"T_100c8_row2_col5\" class=\"data row2 col5\" >Setosa</td>\n",
       "    </tr>\n",
       "    <tr>\n",
       "      <th id=\"T_100c8_level0_row3\" class=\"row_heading level0 row3\" >3</th>\n",
       "      <td id=\"T_100c8_row3_col0\" class=\"data row3 col0\" >4.600000</td>\n",
       "      <td id=\"T_100c8_row3_col1\" class=\"data row3 col1\" >3.100000</td>\n",
       "      <td id=\"T_100c8_row3_col2\" class=\"data row3 col2\" >1.500000</td>\n",
       "      <td id=\"T_100c8_row3_col3\" class=\"data row3 col3\" >0.200000</td>\n",
       "      <td id=\"T_100c8_row3_col4\" class=\"data row3 col4\" >0</td>\n",
       "      <td id=\"T_100c8_row3_col5\" class=\"data row3 col5\" >Setosa</td>\n",
       "    </tr>\n",
       "    <tr>\n",
       "      <th id=\"T_100c8_level0_row4\" class=\"row_heading level0 row4\" >4</th>\n",
       "      <td id=\"T_100c8_row4_col0\" class=\"data row4 col0\" >5.000000</td>\n",
       "      <td id=\"T_100c8_row4_col1\" class=\"data row4 col1\" >3.600000</td>\n",
       "      <td id=\"T_100c8_row4_col2\" class=\"data row4 col2\" >1.400000</td>\n",
       "      <td id=\"T_100c8_row4_col3\" class=\"data row4 col3\" >0.200000</td>\n",
       "      <td id=\"T_100c8_row4_col4\" class=\"data row4 col4\" >0</td>\n",
       "      <td id=\"T_100c8_row4_col5\" class=\"data row4 col5\" >Setosa</td>\n",
       "    </tr>\n",
       "  </tbody>\n",
       "</table>\n"
      ],
      "text/plain": [
       "<pandas.io.formats.style.Styler at 0x25cff25cf50>"
      ]
     },
     "execution_count": 3,
     "metadata": {},
     "output_type": "execute_result"
    }
   ],
   "source": [
    "df_iris.head().style.set_caption(\"Primeiras 5 linhas do dataset Iris\")\n",
    "# Exibindo as 5 primeiras linhas"
   ]
  },
  {
   "cell_type": "code",
   "execution_count": 4,
   "id": "01e902e8",
   "metadata": {},
   "outputs": [
    {
     "data": {
      "text/html": [
       "<style type=\"text/css\">\n",
       "</style>\n",
       "<table id=\"T_12c99\">\n",
       "  <caption>5 linhas aleatorias do dataset Iris</caption>\n",
       "  <thead>\n",
       "    <tr>\n",
       "      <th class=\"blank level0\" >&nbsp;</th>\n",
       "      <th id=\"T_12c99_level0_col0\" class=\"col_heading level0 col0\" >sepal length (cm)</th>\n",
       "      <th id=\"T_12c99_level0_col1\" class=\"col_heading level0 col1\" >sepal width (cm)</th>\n",
       "      <th id=\"T_12c99_level0_col2\" class=\"col_heading level0 col2\" >petal length (cm)</th>\n",
       "      <th id=\"T_12c99_level0_col3\" class=\"col_heading level0 col3\" >petal width (cm)</th>\n",
       "      <th id=\"T_12c99_level0_col4\" class=\"col_heading level0 col4\" >target</th>\n",
       "      <th id=\"T_12c99_level0_col5\" class=\"col_heading level0 col5\" >species</th>\n",
       "    </tr>\n",
       "  </thead>\n",
       "  <tbody>\n",
       "    <tr>\n",
       "      <th id=\"T_12c99_level0_row0\" class=\"row_heading level0 row0\" >75</th>\n",
       "      <td id=\"T_12c99_row0_col0\" class=\"data row0 col0\" >6.600000</td>\n",
       "      <td id=\"T_12c99_row0_col1\" class=\"data row0 col1\" >3.000000</td>\n",
       "      <td id=\"T_12c99_row0_col2\" class=\"data row0 col2\" >4.400000</td>\n",
       "      <td id=\"T_12c99_row0_col3\" class=\"data row0 col3\" >1.400000</td>\n",
       "      <td id=\"T_12c99_row0_col4\" class=\"data row0 col4\" >1</td>\n",
       "      <td id=\"T_12c99_row0_col5\" class=\"data row0 col5\" >Versicolor</td>\n",
       "    </tr>\n",
       "    <tr>\n",
       "      <th id=\"T_12c99_level0_row1\" class=\"row_heading level0 row1\" >72</th>\n",
       "      <td id=\"T_12c99_row1_col0\" class=\"data row1 col0\" >6.300000</td>\n",
       "      <td id=\"T_12c99_row1_col1\" class=\"data row1 col1\" >2.500000</td>\n",
       "      <td id=\"T_12c99_row1_col2\" class=\"data row1 col2\" >4.900000</td>\n",
       "      <td id=\"T_12c99_row1_col3\" class=\"data row1 col3\" >1.500000</td>\n",
       "      <td id=\"T_12c99_row1_col4\" class=\"data row1 col4\" >1</td>\n",
       "      <td id=\"T_12c99_row1_col5\" class=\"data row1 col5\" >Versicolor</td>\n",
       "    </tr>\n",
       "    <tr>\n",
       "      <th id=\"T_12c99_level0_row2\" class=\"row_heading level0 row2\" >92</th>\n",
       "      <td id=\"T_12c99_row2_col0\" class=\"data row2 col0\" >5.800000</td>\n",
       "      <td id=\"T_12c99_row2_col1\" class=\"data row2 col1\" >2.600000</td>\n",
       "      <td id=\"T_12c99_row2_col2\" class=\"data row2 col2\" >4.000000</td>\n",
       "      <td id=\"T_12c99_row2_col3\" class=\"data row2 col3\" >1.200000</td>\n",
       "      <td id=\"T_12c99_row2_col4\" class=\"data row2 col4\" >1</td>\n",
       "      <td id=\"T_12c99_row2_col5\" class=\"data row2 col5\" >Versicolor</td>\n",
       "    </tr>\n",
       "    <tr>\n",
       "      <th id=\"T_12c99_level0_row3\" class=\"row_heading level0 row3\" >77</th>\n",
       "      <td id=\"T_12c99_row3_col0\" class=\"data row3 col0\" >6.700000</td>\n",
       "      <td id=\"T_12c99_row3_col1\" class=\"data row3 col1\" >3.000000</td>\n",
       "      <td id=\"T_12c99_row3_col2\" class=\"data row3 col2\" >5.000000</td>\n",
       "      <td id=\"T_12c99_row3_col3\" class=\"data row3 col3\" >1.700000</td>\n",
       "      <td id=\"T_12c99_row3_col4\" class=\"data row3 col4\" >1</td>\n",
       "      <td id=\"T_12c99_row3_col5\" class=\"data row3 col5\" >Versicolor</td>\n",
       "    </tr>\n",
       "    <tr>\n",
       "      <th id=\"T_12c99_level0_row4\" class=\"row_heading level0 row4\" >10</th>\n",
       "      <td id=\"T_12c99_row4_col0\" class=\"data row4 col0\" >5.400000</td>\n",
       "      <td id=\"T_12c99_row4_col1\" class=\"data row4 col1\" >3.700000</td>\n",
       "      <td id=\"T_12c99_row4_col2\" class=\"data row4 col2\" >1.500000</td>\n",
       "      <td id=\"T_12c99_row4_col3\" class=\"data row4 col3\" >0.200000</td>\n",
       "      <td id=\"T_12c99_row4_col4\" class=\"data row4 col4\" >0</td>\n",
       "      <td id=\"T_12c99_row4_col5\" class=\"data row4 col5\" >Setosa</td>\n",
       "    </tr>\n",
       "  </tbody>\n",
       "</table>\n"
      ],
      "text/plain": [
       "<pandas.io.formats.style.Styler at 0x25cff3a2590>"
      ]
     },
     "execution_count": 4,
     "metadata": {},
     "output_type": "execute_result"
    }
   ],
   "source": [
    "df_iris.sample(5).style.set_caption(\"5 linhas aleatorias do dataset Iris\")# Exibindo 5 amostras aleatorias dos dados"
   ]
  },
  {
   "cell_type": "code",
   "execution_count": 5,
   "id": "79b1abb3",
   "metadata": {},
   "outputs": [
    {
     "data": {
      "text/html": [
       "<style type=\"text/css\">\n",
       "</style>\n",
       "<table id=\"T_ef4f2\">\n",
       "  <caption>Ultimas 5 linhas do dataset Iris</caption>\n",
       "  <thead>\n",
       "    <tr>\n",
       "      <th class=\"blank level0\" >&nbsp;</th>\n",
       "      <th id=\"T_ef4f2_level0_col0\" class=\"col_heading level0 col0\" >sepal length (cm)</th>\n",
       "      <th id=\"T_ef4f2_level0_col1\" class=\"col_heading level0 col1\" >sepal width (cm)</th>\n",
       "      <th id=\"T_ef4f2_level0_col2\" class=\"col_heading level0 col2\" >petal length (cm)</th>\n",
       "      <th id=\"T_ef4f2_level0_col3\" class=\"col_heading level0 col3\" >petal width (cm)</th>\n",
       "      <th id=\"T_ef4f2_level0_col4\" class=\"col_heading level0 col4\" >target</th>\n",
       "      <th id=\"T_ef4f2_level0_col5\" class=\"col_heading level0 col5\" >species</th>\n",
       "    </tr>\n",
       "  </thead>\n",
       "  <tbody>\n",
       "    <tr>\n",
       "      <th id=\"T_ef4f2_level0_row0\" class=\"row_heading level0 row0\" >145</th>\n",
       "      <td id=\"T_ef4f2_row0_col0\" class=\"data row0 col0\" >6.700000</td>\n",
       "      <td id=\"T_ef4f2_row0_col1\" class=\"data row0 col1\" >3.000000</td>\n",
       "      <td id=\"T_ef4f2_row0_col2\" class=\"data row0 col2\" >5.200000</td>\n",
       "      <td id=\"T_ef4f2_row0_col3\" class=\"data row0 col3\" >2.300000</td>\n",
       "      <td id=\"T_ef4f2_row0_col4\" class=\"data row0 col4\" >2</td>\n",
       "      <td id=\"T_ef4f2_row0_col5\" class=\"data row0 col5\" >Virginica</td>\n",
       "    </tr>\n",
       "    <tr>\n",
       "      <th id=\"T_ef4f2_level0_row1\" class=\"row_heading level0 row1\" >146</th>\n",
       "      <td id=\"T_ef4f2_row1_col0\" class=\"data row1 col0\" >6.300000</td>\n",
       "      <td id=\"T_ef4f2_row1_col1\" class=\"data row1 col1\" >2.500000</td>\n",
       "      <td id=\"T_ef4f2_row1_col2\" class=\"data row1 col2\" >5.000000</td>\n",
       "      <td id=\"T_ef4f2_row1_col3\" class=\"data row1 col3\" >1.900000</td>\n",
       "      <td id=\"T_ef4f2_row1_col4\" class=\"data row1 col4\" >2</td>\n",
       "      <td id=\"T_ef4f2_row1_col5\" class=\"data row1 col5\" >Virginica</td>\n",
       "    </tr>\n",
       "    <tr>\n",
       "      <th id=\"T_ef4f2_level0_row2\" class=\"row_heading level0 row2\" >147</th>\n",
       "      <td id=\"T_ef4f2_row2_col0\" class=\"data row2 col0\" >6.500000</td>\n",
       "      <td id=\"T_ef4f2_row2_col1\" class=\"data row2 col1\" >3.000000</td>\n",
       "      <td id=\"T_ef4f2_row2_col2\" class=\"data row2 col2\" >5.200000</td>\n",
       "      <td id=\"T_ef4f2_row2_col3\" class=\"data row2 col3\" >2.000000</td>\n",
       "      <td id=\"T_ef4f2_row2_col4\" class=\"data row2 col4\" >2</td>\n",
       "      <td id=\"T_ef4f2_row2_col5\" class=\"data row2 col5\" >Virginica</td>\n",
       "    </tr>\n",
       "    <tr>\n",
       "      <th id=\"T_ef4f2_level0_row3\" class=\"row_heading level0 row3\" >148</th>\n",
       "      <td id=\"T_ef4f2_row3_col0\" class=\"data row3 col0\" >6.200000</td>\n",
       "      <td id=\"T_ef4f2_row3_col1\" class=\"data row3 col1\" >3.400000</td>\n",
       "      <td id=\"T_ef4f2_row3_col2\" class=\"data row3 col2\" >5.400000</td>\n",
       "      <td id=\"T_ef4f2_row3_col3\" class=\"data row3 col3\" >2.300000</td>\n",
       "      <td id=\"T_ef4f2_row3_col4\" class=\"data row3 col4\" >2</td>\n",
       "      <td id=\"T_ef4f2_row3_col5\" class=\"data row3 col5\" >Virginica</td>\n",
       "    </tr>\n",
       "    <tr>\n",
       "      <th id=\"T_ef4f2_level0_row4\" class=\"row_heading level0 row4\" >149</th>\n",
       "      <td id=\"T_ef4f2_row4_col0\" class=\"data row4 col0\" >5.900000</td>\n",
       "      <td id=\"T_ef4f2_row4_col1\" class=\"data row4 col1\" >3.000000</td>\n",
       "      <td id=\"T_ef4f2_row4_col2\" class=\"data row4 col2\" >5.100000</td>\n",
       "      <td id=\"T_ef4f2_row4_col3\" class=\"data row4 col3\" >1.800000</td>\n",
       "      <td id=\"T_ef4f2_row4_col4\" class=\"data row4 col4\" >2</td>\n",
       "      <td id=\"T_ef4f2_row4_col5\" class=\"data row4 col5\" >Virginica</td>\n",
       "    </tr>\n",
       "  </tbody>\n",
       "</table>\n"
      ],
      "text/plain": [
       "<pandas.io.formats.style.Styler at 0x25cff1fbad0>"
      ]
     },
     "execution_count": 5,
     "metadata": {},
     "output_type": "execute_result"
    }
   ],
   "source": [
    "df_iris.tail().style.set_caption(\"Ultimas 5 linhas do dataset Iris\")#Exibindo as 5 ultimas linhas"
   ]
  },
  {
   "cell_type": "code",
   "execution_count": 6,
   "id": "50a969e1",
   "metadata": {},
   "outputs": [
    {
     "data": {
      "text/plain": [
       "'O dataset possui 150 linhas e 6 colunas.'"
      ]
     },
     "execution_count": 6,
     "metadata": {},
     "output_type": "execute_result"
    }
   ],
   "source": [
    "f\"O dataset possui {df_iris.shape[0]} linhas e {df_iris.shape[1]} colunas.\"# Exibe a quantidade de linhas e colunas"
   ]
  },
  {
   "cell_type": "code",
   "execution_count": 7,
   "id": "7666644f",
   "metadata": {},
   "outputs": [
    {
     "data": {
      "text/plain": [
       "Index(['sepal_length', 'sepal_width', 'petal_length', 'petal_width', 'target',\n",
       "       'species'],\n",
       "      dtype='object')"
      ]
     },
     "execution_count": 7,
     "metadata": {},
     "output_type": "execute_result"
    }
   ],
   "source": [
    "df_iris.columns = [col.replace(\" (cm)\", \"\").replace(\" \", \"_\") for col in df_iris.columns]\n",
    "df_iris.columns\n",
    "# Exibe os nomes das colunas"
   ]
  },
  {
   "cell_type": "code",
   "execution_count": 8,
   "id": "36f40940",
   "metadata": {},
   "outputs": [
    {
     "name": "stdout",
     "output_type": "stream",
     "text": [
      "<class 'pandas.core.frame.DataFrame'>\n",
      "RangeIndex: 150 entries, 0 to 149\n",
      "Data columns (total 6 columns):\n",
      " #   Column        Non-Null Count  Dtype  \n",
      "---  ------        --------------  -----  \n",
      " 0   sepal_length  150 non-null    float64\n",
      " 1   sepal_width   150 non-null    float64\n",
      " 2   petal_length  150 non-null    float64\n",
      " 3   petal_width   150 non-null    float64\n",
      " 4   target        150 non-null    int64  \n",
      " 5   species       150 non-null    object \n",
      "dtypes: float64(4), int64(1), object(1)\n",
      "memory usage: 7.2+ KB\n"
     ]
    }
   ],
   "source": [
    "df_iris.info()# Informacoes sobre as colunas "
   ]
  },
  {
   "cell_type": "markdown",
   "id": "b1110fbf",
   "metadata": {},
   "source": [
    "2. **Qualidade dos Dados**"
   ]
  },
  {
   "cell_type": "code",
   "execution_count": 9,
   "id": "07caebf3",
   "metadata": {},
   "outputs": [
    {
     "data": {
      "text/plain": [
       "sepal_length    0\n",
       "sepal_width     0\n",
       "petal_length    0\n",
       "petal_width     0\n",
       "target          0\n",
       "species         0\n",
       "dtype: int64"
      ]
     },
     "execution_count": 9,
     "metadata": {},
     "output_type": "execute_result"
    }
   ],
   "source": [
    "df_iris.isnull().sum()# Verificando se a valores nulos no dataframe"
   ]
  },
  {
   "cell_type": "code",
   "execution_count": 10,
   "id": "57a6d814",
   "metadata": {},
   "outputs": [
    {
     "data": {
      "text/plain": [
       "np.int64(1)"
      ]
     },
     "execution_count": 10,
     "metadata": {},
     "output_type": "execute_result"
    }
   ],
   "source": [
    "df_iris.duplicated().sum()# Verifica se a valores duplicados no dataframe"
   ]
  },
  {
   "cell_type": "code",
   "execution_count": 11,
   "id": "4d63def0",
   "metadata": {},
   "outputs": [
    {
     "data": {
      "text/plain": [
       "Index([], dtype='int64')"
      ]
     },
     "execution_count": 11,
     "metadata": {},
     "output_type": "execute_result"
    }
   ],
   "source": [
    "df_iris.index[df_iris.index.duplicated()]# Verifica se a valores duplicados na coluna ID no dataframe"
   ]
  },
  {
   "cell_type": "code",
   "execution_count": 12,
   "id": "4ac90202",
   "metadata": {},
   "outputs": [
    {
     "data": {
      "text/html": [
       "<div>\n",
       "<style scoped>\n",
       "    .dataframe tbody tr th:only-of-type {\n",
       "        vertical-align: middle;\n",
       "    }\n",
       "\n",
       "    .dataframe tbody tr th {\n",
       "        vertical-align: top;\n",
       "    }\n",
       "\n",
       "    .dataframe thead th {\n",
       "        text-align: right;\n",
       "    }\n",
       "</style>\n",
       "<table border=\"1\" class=\"dataframe\">\n",
       "  <thead>\n",
       "    <tr style=\"text-align: right;\">\n",
       "      <th></th>\n",
       "      <th>sepal_length</th>\n",
       "      <th>sepal_width</th>\n",
       "      <th>petal_length</th>\n",
       "      <th>petal_width</th>\n",
       "      <th>target</th>\n",
       "    </tr>\n",
       "  </thead>\n",
       "  <tbody>\n",
       "    <tr>\n",
       "      <th>count</th>\n",
       "      <td>150.000000</td>\n",
       "      <td>150.000000</td>\n",
       "      <td>150.000000</td>\n",
       "      <td>150.000000</td>\n",
       "      <td>150.000000</td>\n",
       "    </tr>\n",
       "    <tr>\n",
       "      <th>mean</th>\n",
       "      <td>5.843333</td>\n",
       "      <td>3.057333</td>\n",
       "      <td>3.758000</td>\n",
       "      <td>1.199333</td>\n",
       "      <td>1.000000</td>\n",
       "    </tr>\n",
       "    <tr>\n",
       "      <th>std</th>\n",
       "      <td>0.828066</td>\n",
       "      <td>0.435866</td>\n",
       "      <td>1.765298</td>\n",
       "      <td>0.762238</td>\n",
       "      <td>0.819232</td>\n",
       "    </tr>\n",
       "    <tr>\n",
       "      <th>min</th>\n",
       "      <td>4.300000</td>\n",
       "      <td>2.000000</td>\n",
       "      <td>1.000000</td>\n",
       "      <td>0.100000</td>\n",
       "      <td>0.000000</td>\n",
       "    </tr>\n",
       "    <tr>\n",
       "      <th>25%</th>\n",
       "      <td>5.100000</td>\n",
       "      <td>2.800000</td>\n",
       "      <td>1.600000</td>\n",
       "      <td>0.300000</td>\n",
       "      <td>0.000000</td>\n",
       "    </tr>\n",
       "    <tr>\n",
       "      <th>50%</th>\n",
       "      <td>5.800000</td>\n",
       "      <td>3.000000</td>\n",
       "      <td>4.350000</td>\n",
       "      <td>1.300000</td>\n",
       "      <td>1.000000</td>\n",
       "    </tr>\n",
       "    <tr>\n",
       "      <th>75%</th>\n",
       "      <td>6.400000</td>\n",
       "      <td>3.300000</td>\n",
       "      <td>5.100000</td>\n",
       "      <td>1.800000</td>\n",
       "      <td>2.000000</td>\n",
       "    </tr>\n",
       "    <tr>\n",
       "      <th>max</th>\n",
       "      <td>7.900000</td>\n",
       "      <td>4.400000</td>\n",
       "      <td>6.900000</td>\n",
       "      <td>2.500000</td>\n",
       "      <td>2.000000</td>\n",
       "    </tr>\n",
       "  </tbody>\n",
       "</table>\n",
       "</div>"
      ],
      "text/plain": [
       "       sepal_length  sepal_width  petal_length  petal_width      target\n",
       "count    150.000000   150.000000    150.000000   150.000000  150.000000\n",
       "mean       5.843333     3.057333      3.758000     1.199333    1.000000\n",
       "std        0.828066     0.435866      1.765298     0.762238    0.819232\n",
       "min        4.300000     2.000000      1.000000     0.100000    0.000000\n",
       "25%        5.100000     2.800000      1.600000     0.300000    0.000000\n",
       "50%        5.800000     3.000000      4.350000     1.300000    1.000000\n",
       "75%        6.400000     3.300000      5.100000     1.800000    2.000000\n",
       "max        7.900000     4.400000      6.900000     2.500000    2.000000"
      ]
     },
     "execution_count": 12,
     "metadata": {},
     "output_type": "execute_result"
    }
   ],
   "source": [
    "df_iris.describe()# Resumo estatistico de colunas numericas"
   ]
  },
  {
   "cell_type": "markdown",
   "id": "43e86b09",
   "metadata": {},
   "source": [
    "3. **Análise de Classes**"
   ]
  },
  {
   "cell_type": "code",
   "execution_count": 13,
   "id": "be4876a2",
   "metadata": {},
   "outputs": [
    {
     "data": {
      "text/plain": [
       "species\n",
       "Setosa        50\n",
       "Versicolor    50\n",
       "Virginica     50\n",
       "Name: count, dtype: int64"
      ]
     },
     "execution_count": 13,
     "metadata": {},
     "output_type": "execute_result"
    }
   ],
   "source": [
    "#-Distribuicao das especies e contando quantas amostras são Sepal (0), Petal (1) e Target (3).\n",
    "agrupando_species = df_iris['species'].value_counts()\n",
    "agrupando_species"
   ]
  },
  {
   "cell_type": "code",
   "execution_count": 14,
   "id": "dec73883",
   "metadata": {},
   "outputs": [
    {
     "data": {
      "image/png": "[encoded data removed]",
      "text/plain": [
       "<Figure size 1000x800 with 1 Axes>"
      ]
     },
     "metadata": {},
     "output_type": "display_data"
    }
   ],
   "source": [
    "colors = ['#77DD77', '#FFB347', '#AEC6CF']\n",
    "\n",
    "plt.figure(figsize=(10, 8))\n",
    "agrupando_species.plot(kind='bar', fontsize=14, color= colors, alpha=0.7)\n",
    "\n",
    "plt.title('Distribution of Iris Species', fontsize=14, fontweight='bold')\n",
    "plt.xlabel('Species', fontsize=14)\n",
    "plt.ylabel('Count')\n",
    "plt.xticks(rotation=20, ha='right')\n",
    "plt.grid(True, linestyle='--', alpha=0.7)\n",
    "\n",
    "for i, v in enumerate(agrupando_species.values):\n",
    "    plt.text(i, v + 1, str(v), ha='center', fontsize=10)\n",
    "\n",
    "plt.show()\n"
   ]
  }
 ],
 "metadata": {
  "kernelspec": {
   "display_name": "venv",
   "language": "python",
   "name": "python3"
  },
  "language_info": {
   "codemirror_mode": {
    "name": "ipython",
    "version": 3
   },
   "file_extension": ".py",
   "mimetype": "text/x-python",
   "name": "python",
   "nbconvert_exporter": "python",
   "pygments_lexer": "ipython3",
   "version": "3.11.1"
  }
 },
 "nbformat": 4,
 "nbformat_minor": 5
}
